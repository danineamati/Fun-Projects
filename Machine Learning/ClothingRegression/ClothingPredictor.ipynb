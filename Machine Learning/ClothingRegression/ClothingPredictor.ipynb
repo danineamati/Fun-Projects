{
 "cells": [
  {
   "cell_type": "code",
   "execution_count": 1,
   "metadata": {},
   "outputs": [],
   "source": [
    "# Start with the import statements\n",
    "\n",
    "# Data Handling\n",
    "import numpy as np\n",
    "import pandas as pd\n",
    "\n",
    "# Machine Learning\n",
    "from sklearn import preprocessing, model_selection, svm\n",
    "from sklearn.linear_model import LinearRegression\n",
    "\n",
    "# Plotting\n",
    "%matplotlib inline\n",
    "\n",
    "import matplotlib.pyplot as plt"
   ]
  },
  {
   "cell_type": "code",
   "execution_count": 2,
   "metadata": {},
   "outputs": [
    {
     "data": {
      "text/html": [
       "<div>\n",
       "<style scoped>\n",
       "    .dataframe tbody tr th:only-of-type {\n",
       "        vertical-align: middle;\n",
       "    }\n",
       "\n",
       "    .dataframe tbody tr th {\n",
       "        vertical-align: top;\n",
       "    }\n",
       "\n",
       "    .dataframe thead th {\n",
       "        text-align: right;\n",
       "    }\n",
       "</style>\n",
       "<table border=\"1\" class=\"dataframe\">\n",
       "  <thead>\n",
       "    <tr style=\"text-align: right;\">\n",
       "      <th></th>\n",
       "      <th>Day</th>\n",
       "      <th>Shirt Color 1</th>\n",
       "      <th>Shirt Color 2</th>\n",
       "      <th>Pants Color</th>\n",
       "    </tr>\n",
       "    <tr>\n",
       "      <th>Date</th>\n",
       "      <th></th>\n",
       "      <th></th>\n",
       "      <th></th>\n",
       "      <th></th>\n",
       "    </tr>\n",
       "  </thead>\n",
       "  <tbody>\n",
       "    <tr>\n",
       "      <th>7/1/2019</th>\n",
       "      <td>Monday</td>\n",
       "      <td>White</td>\n",
       "      <td>Brown</td>\n",
       "      <td>Brown</td>\n",
       "    </tr>\n",
       "    <tr>\n",
       "      <th>7/2/2019</th>\n",
       "      <td>Tuesday</td>\n",
       "      <td>Black</td>\n",
       "      <td>White</td>\n",
       "      <td>Black</td>\n",
       "    </tr>\n",
       "    <tr>\n",
       "      <th>7/3/2019</th>\n",
       "      <td>Wednesday</td>\n",
       "      <td>None</td>\n",
       "      <td>None</td>\n",
       "      <td>Black</td>\n",
       "    </tr>\n",
       "    <tr>\n",
       "      <th>7/4/2019</th>\n",
       "      <td>Thursday</td>\n",
       "      <td>None</td>\n",
       "      <td>None</td>\n",
       "      <td>Grey</td>\n",
       "    </tr>\n",
       "    <tr>\n",
       "      <th>7/5/2019</th>\n",
       "      <td>Friday</td>\n",
       "      <td>None</td>\n",
       "      <td>None</td>\n",
       "      <td>White</td>\n",
       "    </tr>\n",
       "  </tbody>\n",
       "</table>\n",
       "</div>"
      ],
      "text/plain": [
       "                Day Shirt Color 1 Shirt Color 2 Pants Color\n",
       "Date                                                       \n",
       "7/1/2019     Monday         White         Brown       Brown\n",
       "7/2/2019    Tuesday         Black         White       Black\n",
       "7/3/2019  Wednesday          None          None       Black\n",
       "7/4/2019   Thursday          None          None        Grey\n",
       "7/5/2019     Friday          None          None       White"
      ]
     },
     "execution_count": 2,
     "metadata": {},
     "output_type": "execute_result"
    }
   ],
   "source": [
    "df_orig = pd.read_csv(\"clothingLog.csv\", index_col = 0)\n",
    "\n",
    "df = df_orig.copy()\n",
    "\n",
    "df.head()"
   ]
  },
  {
   "cell_type": "code",
   "execution_count": 3,
   "metadata": {},
   "outputs": [
    {
     "name": "stdout",
     "output_type": "stream",
     "text": [
      "{'Monday': 1, 'Tuesday': 2, 'Wednesday': 3, 'Thursday': 4, 'Friday': 5, 'Saturday': 6, 'Sunday': 7}\n",
      "{'None': 0, 'White': 1, 'Blue': 2, 'Teal': 3, 'Brown': 4, 'Orange': 5, 'Red': 6, 'Grey': 7, 'Black': 8}\n"
     ]
    }
   ],
   "source": [
    "cols = df.columns\n",
    "rows = df.index\n",
    "days = {\n",
    "    \"Monday\": 1,\n",
    "    \"Tuesday\": 2,\n",
    "    \"Wednesday\": 3,\n",
    "    \"Thursday\": 4,\n",
    "    \"Friday\": 5,\n",
    "    \"Saturday\": 6,\n",
    "    \"Sunday\": 7\n",
    "}\n",
    "\n",
    "colors = {\n",
    "    \"None\": 0,\n",
    "    \"White\": 1,\n",
    "    \"Blue\": 2,\n",
    "    \"Teal\": 3,\n",
    "    \"Brown\": 4,\n",
    "    \"Orange\": 5,\n",
    "    \"Red\": 6,\n",
    "    \"Grey\": 7,\n",
    "    \"Black\": 8\n",
    "}\n",
    "\n",
    "def find_colors(colorNum):\n",
    "    for key in colors.keys():\n",
    "        if colorNum == colors[key]:\n",
    "            return key\n",
    "    return -1\n",
    "\n",
    "print(days)\n",
    "print(colors)"
   ]
  },
  {
   "cell_type": "code",
   "execution_count": 4,
   "metadata": {},
   "outputs": [
    {
     "data": {
      "text/html": [
       "<div>\n",
       "<style scoped>\n",
       "    .dataframe tbody tr th:only-of-type {\n",
       "        vertical-align: middle;\n",
       "    }\n",
       "\n",
       "    .dataframe tbody tr th {\n",
       "        vertical-align: top;\n",
       "    }\n",
       "\n",
       "    .dataframe thead th {\n",
       "        text-align: right;\n",
       "    }\n",
       "</style>\n",
       "<table border=\"1\" class=\"dataframe\">\n",
       "  <thead>\n",
       "    <tr style=\"text-align: right;\">\n",
       "      <th></th>\n",
       "      <th>Day</th>\n",
       "      <th>Shirt Color 1</th>\n",
       "      <th>Shirt Color 2</th>\n",
       "      <th>Pants Color</th>\n",
       "    </tr>\n",
       "    <tr>\n",
       "      <th>Date</th>\n",
       "      <th></th>\n",
       "      <th></th>\n",
       "      <th></th>\n",
       "      <th></th>\n",
       "    </tr>\n",
       "  </thead>\n",
       "  <tbody>\n",
       "    <tr>\n",
       "      <th>7/1/2019</th>\n",
       "      <td>1</td>\n",
       "      <td>1</td>\n",
       "      <td>4</td>\n",
       "      <td>4</td>\n",
       "    </tr>\n",
       "    <tr>\n",
       "      <th>7/2/2019</th>\n",
       "      <td>2</td>\n",
       "      <td>8</td>\n",
       "      <td>1</td>\n",
       "      <td>8</td>\n",
       "    </tr>\n",
       "    <tr>\n",
       "      <th>7/3/2019</th>\n",
       "      <td>3</td>\n",
       "      <td>0</td>\n",
       "      <td>0</td>\n",
       "      <td>8</td>\n",
       "    </tr>\n",
       "    <tr>\n",
       "      <th>7/4/2019</th>\n",
       "      <td>4</td>\n",
       "      <td>0</td>\n",
       "      <td>0</td>\n",
       "      <td>7</td>\n",
       "    </tr>\n",
       "    <tr>\n",
       "      <th>7/5/2019</th>\n",
       "      <td>5</td>\n",
       "      <td>0</td>\n",
       "      <td>0</td>\n",
       "      <td>1</td>\n",
       "    </tr>\n",
       "  </tbody>\n",
       "</table>\n",
       "</div>"
      ],
      "text/plain": [
       "          Day  Shirt Color 1  Shirt Color 2  Pants Color\n",
       "Date                                                    \n",
       "7/1/2019    1              1              4            4\n",
       "7/2/2019    2              8              1            8\n",
       "7/3/2019    3              0              0            8\n",
       "7/4/2019    4              0              0            7\n",
       "7/5/2019    5              0              0            1"
      ]
     },
     "execution_count": 4,
     "metadata": {},
     "output_type": "execute_result"
    }
   ],
   "source": [
    "for row in range(df.shape[0]):\n",
    "    # First numericize the day of the week\n",
    "    val = df.loc[rows[row], cols[0]]\n",
    "    if isinstance(val, str):\n",
    "        df.loc[rows[row], cols[0]] = days[val]\n",
    "    \n",
    "    # Next numericize the colors\n",
    "    for col in range(1,4):\n",
    "        color = df.loc[rows[row], cols[col]]\n",
    "        if isinstance(color, str):\n",
    "            df.loc[rows[row], cols[col]] = colors[color]\n",
    "\n",
    "df.head()"
   ]
  },
  {
   "cell_type": "code",
   "execution_count": 5,
   "metadata": {},
   "outputs": [
    {
     "data": {
      "text/plain": [
       "<matplotlib.axes._subplots.AxesSubplot at 0x1ea91c515c0>"
      ]
     },
     "execution_count": 5,
     "metadata": {},
     "output_type": "execute_result"
    },
    {
     "data": {
      "image/png": "[encoded data removed]",
      "text/plain": [
       "<Figure size 432x288 with 1 Axes>"
      ]
     },
     "metadata": {
      "needs_background": "light"
     },
     "output_type": "display_data"
    }
   ],
   "source": [
    "df.plot()"
   ]
  },
  {
   "cell_type": "code",
   "execution_count": 9,
   "metadata": {},
   "outputs": [
    {
     "data": {
      "image/png": "[encoded data removed]",
      "text/plain": [
       "<Figure size 432x288 with 1 Axes>"
      ]
     },
     "metadata": {
      "needs_background": "light"
     },
     "output_type": "display_data"
    },
    {
     "data": {
      "image/png": "[encoded data removed]",
      "text/plain": [
       "<Figure size 432x288 with 1 Axes>"
      ]
     },
     "metadata": {
      "needs_background": "light"
     },
     "output_type": "display_data"
    },
    {
     "data": {
      "image/png": "[encoded data removed]",
      "text/plain": [
       "<Figure size 432x288 with 1 Axes>"
      ]
     },
     "metadata": {
      "needs_background": "light"
     },
     "output_type": "display_data"
    }
   ],
   "source": [
    "forecast_col = \"Pants Color\" # Forecast the Pants Color Column\n",
    "\n",
    "X = np.array(df.drop([forecast_col], 1))\n",
    "\n",
    "y = np.array(df[forecast_col])\n",
    "\n",
    "numTrials = 10\n",
    "\n",
    "results = []\n",
    "\n",
    "for i in range(numTrials):\n",
    "    percent_split = 0.2\n",
    "    X_train, X_test, y_train, y_test = model_selection.\\\n",
    "                        train_test_split(X, y, test_size = percent_split)\n",
    "\n",
    "    clf = svm.SVC(gamma = 'auto')\n",
    "    clf.fit(X_train, y_train)\n",
    "    confidence = clf.score(X_test, y_test)\n",
    "    results.append(confidence)\n",
    "\n",
    "plt.plot(results)\n",
    "plt.show()\n",
    "    \n",
    "plt.hist(results)\n",
    "plt.show()\n",
    "    \n",
    "plt.boxplot(results, vert = False)\n",
    "plt.show()"
   ]
  },
  {
   "cell_type": "code",
   "execution_count": 10,
   "metadata": {},
   "outputs": [
    {
     "data": {
      "text/html": [
       "<div>\n",
       "<style scoped>\n",
       "    .dataframe tbody tr th:only-of-type {\n",
       "        vertical-align: middle;\n",
       "    }\n",
       "\n",
       "    .dataframe tbody tr th {\n",
       "        vertical-align: top;\n",
       "    }\n",
       "\n",
       "    .dataframe thead th {\n",
       "        text-align: right;\n",
       "    }\n",
       "</style>\n",
       "<table border=\"1\" class=\"dataframe\">\n",
       "  <thead>\n",
       "    <tr style=\"text-align: right;\">\n",
       "      <th></th>\n",
       "      <th>Shirt Color 1</th>\n",
       "      <th>Shirt Color 2</th>\n",
       "      <th>Pants Color Predicted</th>\n",
       "      <th>Pants Color Actual</th>\n",
       "    </tr>\n",
       "  </thead>\n",
       "  <tbody>\n",
       "    <tr>\n",
       "      <th>0</th>\n",
       "      <td>Black</td>\n",
       "      <td>Red</td>\n",
       "      <td>Black</td>\n",
       "      <td>Black</td>\n",
       "    </tr>\n",
       "    <tr>\n",
       "      <th>1</th>\n",
       "      <td>White</td>\n",
       "      <td>Brown</td>\n",
       "      <td>Brown</td>\n",
       "      <td>Brown</td>\n",
       "    </tr>\n",
       "    <tr>\n",
       "      <th>2</th>\n",
       "      <td>Black</td>\n",
       "      <td>Red</td>\n",
       "      <td>Black</td>\n",
       "      <td>Black</td>\n",
       "    </tr>\n",
       "    <tr>\n",
       "      <th>3</th>\n",
       "      <td>None</td>\n",
       "      <td>None</td>\n",
       "      <td>Black</td>\n",
       "      <td>Grey</td>\n",
       "    </tr>\n",
       "    <tr>\n",
       "      <th>4</th>\n",
       "      <td>None</td>\n",
       "      <td>None</td>\n",
       "      <td>None</td>\n",
       "      <td>None</td>\n",
       "    </tr>\n",
       "  </tbody>\n",
       "</table>\n",
       "</div>"
      ],
      "text/plain": [
       "  Shirt Color 1 Shirt Color 2 Pants Color Predicted Pants Color Actual\n",
       "0         Black           Red                 Black              Black\n",
       "1         White         Brown                 Brown              Brown\n",
       "2         Black           Red                 Black              Black\n",
       "3          None          None                 Black               Grey\n",
       "4          None          None                  None               None"
      ]
     },
     "execution_count": 10,
     "metadata": {},
     "output_type": "execute_result"
    }
   ],
   "source": [
    "prediction = clf.predict(X_test)\n",
    "color_pred = []\n",
    "color_testInput = []\n",
    "color_labeled = []\n",
    "\n",
    "for p in prediction:\n",
    "    color_pred.append(find_colors(p))\n",
    "\n",
    "for r in X_test:\n",
    "    color_row = []\n",
    "    for val in r[1:]:\n",
    "        color_row.append(find_colors(val))\n",
    "    color_testInput.append(color_row)\n",
    "    \n",
    "for v in y_test:\n",
    "    color_labeled.append(find_colors(v))\n",
    "\n",
    "df_pred = pd.DataFrame(color_testInput, columns = cols.drop(forecast_col).drop(\"Day\"))\n",
    "df_pred[forecast_col + \" Predicted\"] = color_pred\n",
    "df_pred[forecast_col + \" Actual\"] = color_labeled\n",
    "\n",
    "df_pred.head()"
   ]
  },
  {
   "cell_type": "code",
   "execution_count": null,
   "metadata": {},
   "outputs": [],
   "source": []
  }
 ],
 "metadata": {
  "kernelspec": {
   "display_name": "Python 3",
   "language": "python",
   "name": "python3"
  },
  "language_info": {
   "codemirror_mode": {
    "name": "ipython",
    "version": 3
   },
   "file_extension": ".py",
   "mimetype": "text/x-python",
   "name": "python",
   "nbconvert_exporter": "python",
   "pygments_lexer": "ipython3",
   "version": "3.6.8"
  }
 },
 "nbformat": 4,
 "nbformat_minor": 2
}
